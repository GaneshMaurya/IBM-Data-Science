{
  "cells": [
    {
      "cell_type": "markdown",
      "metadata": {
        "id": "view-in-github",
        "colab_type": "text"
      },
      "source": [
        "<a href=\"https://colab.research.google.com/github/GaneshMaurya/IBM-Data-Science/blob/main/Jupyter_Notebook.ipynb\" target=\"_parent\"><img src=\"https://colab.research.google.com/assets/colab-badge.svg\" alt=\"Open In Colab\"/></a>"
      ]
    },
    {
      "cell_type": "markdown",
      "metadata": {
        "id": "0rakTLljPpIq"
      },
      "source": [
        "<center>\n",
        "    <img src=\"https://cf-courses-data.s3.us.cloud-object-storage.appdomain.cloud/IBMDeveloperSkillsNetwork-DS0105EN-SkillsNetwork/labs/Module2/images/SN_web_lightmode.png\" width=\"300\" alt=\"cognitiveclass.ai logo\">\n",
        "</center>\n"
      ]
    },
    {
      "cell_type": "markdown",
      "metadata": {
        "id": "mWHcP7-bPpIu"
      },
      "source": [
        "# My Jupyter Notebook on IBM Watson Studio"
      ]
    },
    {
      "cell_type": "markdown",
      "metadata": {
        "id": "8kX_7ft4PpIv"
      },
      "source": [
        "**G V Ganesh Maurya, Software Engineer**"
      ]
    },
    {
      "cell_type": "markdown",
      "metadata": {
        "id": "gyVbirJfPpIv"
      },
      "source": [
        "*I am interested in data science because of the vast possibilities of unimaginable applications one could develop and my love for numbers*"
      ]
    },
    {
      "cell_type": "markdown",
      "metadata": {
        "id": "XzRAjL0lPpIv"
      },
      "source": [
        "### Display the sum of first 100 numbers"
      ]
    },
    {
      "cell_type": "code",
      "execution_count": null,
      "metadata": {
        "id": "xr8G0a5XPpIw",
        "outputId": "15d72060-dbee-4501-df8b-eb098e9b11af"
      },
      "outputs": [
        {
          "name": "stdout",
          "output_type": "stream",
          "text": [
            "5050\n"
          ]
        }
      ],
      "source": [
        "sum = 0\n",
        "for i in range(1, 101):\n",
        "    sum = sum + i\n",
        "print(sum)"
      ]
    },
    {
      "cell_type": "markdown",
      "metadata": {
        "id": "bRjlQj-WPpIy"
      },
      "source": [
        "<a href=\"https://www.coursera.org/learn/open-source-tools-for-data-science/home/week/1\">Course Page</a>\n",
        "<ol>\n",
        "    <li>Mountains\n",
        "    <li>Beaches\n",
        "    <li>Countryside\n",
        "</ol>\n",
        "<hr>\n",
        "<s>30% off on all products | Offer Closes Soon</s>"
      ]
    }
  ],
  "metadata": {
    "kernelspec": {
      "display_name": "Python",
      "language": "python",
      "name": "conda-env-python-py"
    },
    "language_info": {
      "codemirror_mode": {
        "name": "ipython",
        "version": 3
      },
      "file_extension": ".py",
      "mimetype": "text/x-python",
      "name": "python",
      "nbconvert_exporter": "python",
      "pygments_lexer": "ipython3",
      "version": "3.7.12"
    },
    "colab": {
      "provenance": [],
      "include_colab_link": true
    }
  },
  "nbformat": 4,
  "nbformat_minor": 0
}